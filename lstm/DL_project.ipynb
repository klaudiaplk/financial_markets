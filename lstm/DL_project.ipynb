{
  "nbformat": 4,
  "nbformat_minor": 0,
  "metadata": {
    "colab": {
      "name": "DL_project.ipynb",
      "provenance": [],
      "collapsed_sections": [],
      "toc_visible": true
    },
    "kernelspec": {
      "name": "python3",
      "display_name": "Python 3"
    },
    "language_info": {
      "name": "python"
    },
    "accelerator": "GPU"
  },
  "cells": [
    {
      "cell_type": "markdown",
      "metadata": {
        "id": "NYq5mBDsfFOy"
      },
      "source": [
        "# Financial Markets project\n",
        "DL and Applied AI at Sapienza 2021 \n",
        "\n",
        "Author: Klaudia Palak and Hossein"
      ]
    },
    {
      "cell_type": "markdown",
      "metadata": {
        "id": "mxBXV6TUe2rc"
      },
      "source": [
        "## Dataset preparation"
      ]
    },
    {
      "cell_type": "code",
      "metadata": {
        "id": "OVtRKjrcX4L4"
      },
      "source": [
        "import numpy as np\n",
        "import pandas as pd\n",
        "\n",
        "import math\n",
        "\n",
        "from pylab import mpl, plt\n",
        "plt.style.use('seaborn')\n",
        "mpl.rcParams['font.family'] = 'serif'\n",
        "%matplotlib inline\n",
        "\n",
        "from sklearn.metrics import mean_squared_error\n",
        "from sklearn.preprocessing import MinMaxScaler\n",
        "\n",
        "import torch\n",
        "import torch.nn as nn\n",
        "from torch.autograd import Variable"
      ],
      "execution_count": 3,
      "outputs": []
    },
    {
      "cell_type": "markdown",
      "metadata": {
        "id": "aobW5HD91I6r"
      },
      "source": [
        "### Load data"
      ]
    },
    {
      "cell_type": "code",
      "metadata": {
        "colab": {
          "base_uri": "https://localhost:8080/",
          "height": 212
        },
        "id": "JGUkTP0Bf9aj",
        "outputId": "6658f8ca-8c80-42d6-e6ac-86722553a764"
      },
      "source": [
        "df=pd.read_csv(\"TSLA.csv\")\n",
        "print(\"Number of rows and columns:\", df.shape)\n",
        "df.head(5)"
      ],
      "execution_count": 4,
      "outputs": [
        {
          "output_type": "stream",
          "text": [
            "Number of rows and columns: (1259, 7)\n"
          ],
          "name": "stdout"
        },
        {
          "output_type": "execute_result",
          "data": {
            "text/html": [
              "<div>\n",
              "<style scoped>\n",
              "    .dataframe tbody tr th:only-of-type {\n",
              "        vertical-align: middle;\n",
              "    }\n",
              "\n",
              "    .dataframe tbody tr th {\n",
              "        vertical-align: top;\n",
              "    }\n",
              "\n",
              "    .dataframe thead th {\n",
              "        text-align: right;\n",
              "    }\n",
              "</style>\n",
              "<table border=\"1\" class=\"dataframe\">\n",
              "  <thead>\n",
              "    <tr style=\"text-align: right;\">\n",
              "      <th></th>\n",
              "      <th>Date</th>\n",
              "      <th>Open</th>\n",
              "      <th>High</th>\n",
              "      <th>Low</th>\n",
              "      <th>Close</th>\n",
              "      <th>Adj Close</th>\n",
              "      <th>Volume</th>\n",
              "    </tr>\n",
              "  </thead>\n",
              "  <tbody>\n",
              "    <tr>\n",
              "      <th>0</th>\n",
              "      <td>2015-07-10</td>\n",
              "      <td>52.444000</td>\n",
              "      <td>52.599998</td>\n",
              "      <td>51.563999</td>\n",
              "      <td>51.830002</td>\n",
              "      <td>51.830002</td>\n",
              "      <td>13054500</td>\n",
              "    </tr>\n",
              "    <tr>\n",
              "      <th>1</th>\n",
              "      <td>2015-07-13</td>\n",
              "      <td>52.450001</td>\n",
              "      <td>52.509998</td>\n",
              "      <td>51.209999</td>\n",
              "      <td>52.431999</td>\n",
              "      <td>52.431999</td>\n",
              "      <td>14801500</td>\n",
              "    </tr>\n",
              "    <tr>\n",
              "      <th>2</th>\n",
              "      <td>2015-07-14</td>\n",
              "      <td>52.419998</td>\n",
              "      <td>53.198002</td>\n",
              "      <td>52.102001</td>\n",
              "      <td>53.130001</td>\n",
              "      <td>53.130001</td>\n",
              "      <td>9538000</td>\n",
              "    </tr>\n",
              "    <tr>\n",
              "      <th>3</th>\n",
              "      <td>2015-07-15</td>\n",
              "      <td>53.348000</td>\n",
              "      <td>53.498001</td>\n",
              "      <td>52.416000</td>\n",
              "      <td>52.627998</td>\n",
              "      <td>52.627998</td>\n",
              "      <td>10108000</td>\n",
              "    </tr>\n",
              "    <tr>\n",
              "      <th>4</th>\n",
              "      <td>2015-07-16</td>\n",
              "      <td>52.844002</td>\n",
              "      <td>53.439999</td>\n",
              "      <td>52.632000</td>\n",
              "      <td>53.335999</td>\n",
              "      <td>53.335999</td>\n",
              "      <td>8080000</td>\n",
              "    </tr>\n",
              "  </tbody>\n",
              "</table>\n",
              "</div>"
            ],
            "text/plain": [
              "         Date       Open       High        Low      Close  Adj Close    Volume\n",
              "0  2015-07-10  52.444000  52.599998  51.563999  51.830002  51.830002  13054500\n",
              "1  2015-07-13  52.450001  52.509998  51.209999  52.431999  52.431999  14801500\n",
              "2  2015-07-14  52.419998  53.198002  52.102001  53.130001  53.130001   9538000\n",
              "3  2015-07-15  53.348000  53.498001  52.416000  52.627998  52.627998  10108000\n",
              "4  2015-07-16  52.844002  53.439999  52.632000  53.335999  53.335999   8080000"
            ]
          },
          "metadata": {
            "tags": []
          },
          "execution_count": 4
        }
      ]
    },
    {
      "cell_type": "markdown",
      "metadata": {
        "id": "P_JnifNYgkl_"
      },
      "source": [
        "Splitting data into training and test. \n",
        "\n",
        "The target value to be predicted is going to be the “Close” stock price value. "
      ]
    },
    {
      "cell_type": "code",
      "metadata": {
        "colab": {
          "base_uri": "https://localhost:8080/",
          "height": 343
        },
        "id": "EvNucgoTvqCK",
        "outputId": "05aeed7c-d927-40b8-f24b-01dc09551817"
      },
      "source": [
        "df_close = df.iloc[:, [0,4]]\n",
        "df_close.head(10)"
      ],
      "execution_count": 5,
      "outputs": [
        {
          "output_type": "execute_result",
          "data": {
            "text/html": [
              "<div>\n",
              "<style scoped>\n",
              "    .dataframe tbody tr th:only-of-type {\n",
              "        vertical-align: middle;\n",
              "    }\n",
              "\n",
              "    .dataframe tbody tr th {\n",
              "        vertical-align: top;\n",
              "    }\n",
              "\n",
              "    .dataframe thead th {\n",
              "        text-align: right;\n",
              "    }\n",
              "</style>\n",
              "<table border=\"1\" class=\"dataframe\">\n",
              "  <thead>\n",
              "    <tr style=\"text-align: right;\">\n",
              "      <th></th>\n",
              "      <th>Date</th>\n",
              "      <th>Close</th>\n",
              "    </tr>\n",
              "  </thead>\n",
              "  <tbody>\n",
              "    <tr>\n",
              "      <th>0</th>\n",
              "      <td>2015-07-10</td>\n",
              "      <td>51.830002</td>\n",
              "    </tr>\n",
              "    <tr>\n",
              "      <th>1</th>\n",
              "      <td>2015-07-13</td>\n",
              "      <td>52.431999</td>\n",
              "    </tr>\n",
              "    <tr>\n",
              "      <th>2</th>\n",
              "      <td>2015-07-14</td>\n",
              "      <td>53.130001</td>\n",
              "    </tr>\n",
              "    <tr>\n",
              "      <th>3</th>\n",
              "      <td>2015-07-15</td>\n",
              "      <td>52.627998</td>\n",
              "    </tr>\n",
              "    <tr>\n",
              "      <th>4</th>\n",
              "      <td>2015-07-16</td>\n",
              "      <td>53.335999</td>\n",
              "    </tr>\n",
              "    <tr>\n",
              "      <th>5</th>\n",
              "      <td>2015-07-17</td>\n",
              "      <td>54.931999</td>\n",
              "    </tr>\n",
              "    <tr>\n",
              "      <th>6</th>\n",
              "      <td>2015-07-20</td>\n",
              "      <td>56.452000</td>\n",
              "    </tr>\n",
              "    <tr>\n",
              "      <th>7</th>\n",
              "      <td>2015-07-21</td>\n",
              "      <td>53.354000</td>\n",
              "    </tr>\n",
              "    <tr>\n",
              "      <th>8</th>\n",
              "      <td>2015-07-22</td>\n",
              "      <td>53.574001</td>\n",
              "    </tr>\n",
              "    <tr>\n",
              "      <th>9</th>\n",
              "      <td>2015-07-23</td>\n",
              "      <td>53.439999</td>\n",
              "    </tr>\n",
              "  </tbody>\n",
              "</table>\n",
              "</div>"
            ],
            "text/plain": [
              "         Date      Close\n",
              "0  2015-07-10  51.830002\n",
              "1  2015-07-13  52.431999\n",
              "2  2015-07-14  53.130001\n",
              "3  2015-07-15  52.627998\n",
              "4  2015-07-16  53.335999\n",
              "5  2015-07-17  54.931999\n",
              "6  2015-07-20  56.452000\n",
              "7  2015-07-21  53.354000\n",
              "8  2015-07-22  53.574001\n",
              "9  2015-07-23  53.439999"
            ]
          },
          "metadata": {
            "tags": []
          },
          "execution_count": 5
        }
      ]
    },
    {
      "cell_type": "markdown",
      "metadata": {
        "id": "ZZZxbK2txbET"
      },
      "source": [
        "Let's visualize some data!"
      ]
    },
    {
      "cell_type": "code",
      "metadata": {
        "colab": {
          "base_uri": "https://localhost:8080/",
          "height": 403
        },
        "id": "Qtz1jdvqxaI9",
        "outputId": "79d68cc9-5ed1-468c-b398-3a8ac1100868"
      },
      "source": [
        "df_tesla = pd.DataFrame(df_close,columns=['Date','Close'])\n",
        "df_tesla.plot(x ='Date', y='Close', figsize=(15,6))\n",
        "plt.ylabel(\"Stock prize\")\n",
        "plt.title(\"TESLA\")\n",
        "plt.show()"
      ],
      "execution_count": 6,
      "outputs": [
        {
          "output_type": "display_data",
          "data": {
            "image/png": "[encoded data removed]",
            "text/plain": [
              "<Figure size 1080x432 with 1 Axes>"
            ]
          },
          "metadata": {
            "tags": [],
            "needs_background": "light"
          }
        }
      ]
    },
    {
      "cell_type": "code",
      "metadata": {
        "colab": {
          "base_uri": "https://localhost:8080/"
        },
        "id": "c2XzLeOZ00Qy",
        "outputId": "5a446604-5cc8-4b3c-b1d7-dd88c0e958e0"
      },
      "source": [
        "df_tesla.info()"
      ],
      "execution_count": 7,
      "outputs": [
        {
          "output_type": "stream",
          "text": [
            "<class 'pandas.core.frame.DataFrame'>\n",
            "RangeIndex: 1259 entries, 0 to 1258\n",
            "Data columns (total 2 columns):\n",
            " #   Column  Non-Null Count  Dtype  \n",
            "---  ------  --------------  -----  \n",
            " 0   Date    1259 non-null   object \n",
            " 1   Close   1259 non-null   float64\n",
            "dtypes: float64(1), object(1)\n",
            "memory usage: 19.8+ KB\n"
          ],
          "name": "stdout"
        }
      ]
    },
    {
      "cell_type": "markdown",
      "metadata": {
        "id": "RzYaWvBW7a99"
      },
      "source": [
        "### Normalization"
      ]
    },
    {
      "cell_type": "markdown",
      "metadata": {
        "id": "bDkr0cPj6gb3"
      },
      "source": [
        "But first, we should check if dataset has a null values and in case of existing this kind of values - fill it!"
      ]
    },
    {
      "cell_type": "code",
      "metadata": {
        "id": "sxKHGNFL3M8W"
      },
      "source": [
        "# ffill: propagate last valid observation forward to next valid backfill\n",
        "df_tesla=df_tesla.fillna(method='ffill')"
      ],
      "execution_count": 8,
      "outputs": []
    },
    {
      "cell_type": "code",
      "metadata": {
        "colab": {
          "base_uri": "https://localhost:8080/"
        },
        "id": "2sp1c2iz5NUP",
        "outputId": "82460ed2-f37d-4a93-f1ef-dce9e8c4f38a"
      },
      "source": [
        "# checking if still I have a null column\n",
        "print(\"Do I have a null column? \\n\", df_tesla.isna().sum())"
      ],
      "execution_count": 9,
      "outputs": [
        {
          "output_type": "stream",
          "text": [
            "Do I have a null column? \n",
            " Date     0\n",
            "Close    0\n",
            "dtype: int64\n"
          ],
          "name": "stdout"
        }
      ]
    },
    {
      "cell_type": "code",
      "metadata": {
        "id": "xJ2_dmqk7aBu"
      },
      "source": [
        "scaler = MinMaxScaler(feature_range=(-1, 1))\n",
        "# only for Close column\n",
        "df_tesla = scaler.fit_transform(df_tesla['Close'].values.reshape(-1,1))"
      ],
      "execution_count": 10,
      "outputs": []
    },
    {
      "cell_type": "markdown",
      "metadata": {
        "id": "LKEiT5196W06"
      },
      "source": [
        "### Split data to train and test data"
      ]
    },
    {
      "cell_type": "code",
      "metadata": {
        "id": "J_Y5Gg_85doX"
      },
      "source": [
        "# training_size = int(len(df_tesla)*0.80)\n",
        "# data_len = len(df_tesla)\n",
        "\n",
        "# train, test = df_tesla[0:training_size], df_tesla[training_size:data_len]"
      ],
      "execution_count": 11,
      "outputs": []
    },
    {
      "cell_type": "code",
      "metadata": {
        "id": "13BlqVlWlu7Q"
      },
      "source": [
        "#@title Timesteps for creating training data\n",
        "timesteps = 20 #@param {type:\"slider\", min:10, max:100, step:10}\n",
        "\n",
        "def load_data(stock, look_back):\n",
        "    data_raw = stock # convert to numpy array\n",
        "    data = []\n",
        "    \n",
        "    # create all possible sequences of length look_back\n",
        "    for index in range(len(data_raw) - look_back): \n",
        "        data.append(data_raw[index: index + look_back])\n",
        "    \n",
        "    data = np.array(data);\n",
        "    test_set_size = int(np.round(0.2*data.shape[0]));\n",
        "    train_set_size = data.shape[0] - (test_set_size);\n",
        "    \n",
        "    x_train = data[:train_set_size,:-1,:]\n",
        "    y_train = data[:train_set_size,-1,:]\n",
        "    \n",
        "    x_test = data[train_set_size:,:-1]\n",
        "    y_test = data[train_set_size:,-1,:]\n",
        "    \n",
        "    return [x_train, y_train, x_test, y_test]\n",
        "\n",
        "# def split_data(data, timesteps):\n",
        "#   data_len = len(data)\n",
        "#   X_data = []\n",
        "#   y_data = []\n",
        "\n",
        "#   for i in range(timesteps, data_len):\n",
        "#       X_data.append(data[i - timesteps:i, 0])\n",
        "#       y_data.append(data[i, 0])\n",
        "#   X_data, y_data = np.array(X_data), np.array(y_data)\n",
        "#   return [X_data, y_data]\n",
        "\n",
        "# # for train data\n",
        "# X_train, y_train = split_data(train, timesteps)\n",
        "# # for test data\n",
        "# X_test, y_test = split_data(test, timesteps)\n",
        "X_train, y_train, X_test, y_test = load_data(df_tesla, timesteps)"
      ],
      "execution_count": 12,
      "outputs": []
    },
    {
      "cell_type": "code",
      "metadata": {
        "colab": {
          "base_uri": "https://localhost:8080/"
        },
        "id": "MfPu7Xkri7Wd",
        "outputId": "67c435b6-1f38-4095-d008-27b3c69c2510"
      },
      "source": [
        "# print(\"Total length of data --> \", data_len)\n",
        "print(\"Train length --> \", len(X_train))\n",
        "print(\"Test length --> \", len(X_test))"
      ],
      "execution_count": 13,
      "outputs": [
        {
          "output_type": "stream",
          "text": [
            "Train length -->  991\n",
            "Test length -->  248\n"
          ],
          "name": "stdout"
        }
      ]
    },
    {
      "cell_type": "markdown",
      "metadata": {
        "id": "2bXvHXeunmEJ"
      },
      "source": [
        "### Reshaping"
      ]
    },
    {
      "cell_type": "code",
      "metadata": {
        "colab": {
          "base_uri": "https://localhost:8080/"
        },
        "id": "sy0eHJsInsni",
        "outputId": "f4dfb0a1-8e96-4f8c-a0dd-50d4f48b5f4a"
      },
      "source": [
        "# These 3 sizes are typically: The size of data we have, Number of steps (timesteps above chosen by us), Number of features.\n",
        "X_train = np.reshape(X_train, (X_train.shape[0], X_train.shape[1], 1))\n",
        "X_test = np.reshape(X_test, (X_test.shape[0], X_test.shape[1], 1))\n",
        "print(\"X_train --> \", X_train.shape)\n",
        "print(\"y_train shape --> \", y_train.shape)\n",
        "print(\"X_test --> \", X_test.shape)\n",
        "print(\"y_test shape --> \", y_test.shape)"
      ],
      "execution_count": 14,
      "outputs": [
        {
          "output_type": "stream",
          "text": [
            "X_train -->  (991, 19, 1)\n",
            "y_train shape -->  (991, 1)\n",
            "X_test -->  (248, 19, 1)\n",
            "y_test shape -->  (248, 1)\n"
          ],
          "name": "stdout"
        }
      ]
    },
    {
      "cell_type": "markdown",
      "metadata": {
        "id": "-nGAvJHJqz8H"
      },
      "source": [
        "### Convert to tensors"
      ]
    },
    {
      "cell_type": "code",
      "metadata": {
        "id": "rM3pd2Qbq4QW"
      },
      "source": [
        "# make training and test sets in torch\n",
        "x_train = torch.from_numpy(X_train).type(torch.Tensor)\n",
        "x_test = torch.from_numpy(X_test).type(torch.Tensor)\n",
        "y_train = torch.from_numpy(y_train).type(torch.Tensor)\n",
        "y_test = torch.from_numpy(y_test).type(torch.Tensor)"
      ],
      "execution_count": 15,
      "outputs": []
    },
    {
      "cell_type": "code",
      "metadata": {
        "colab": {
          "base_uri": "https://localhost:8080/"
        },
        "id": "6yWK0UaErekM",
        "outputId": "e282d8c5-a320-4bc2-9e21-1ead7f39b970"
      },
      "source": [
        "y_train.size(), x_train.size()"
      ],
      "execution_count": 16,
      "outputs": [
        {
          "output_type": "execute_result",
          "data": {
            "text/plain": [
              "(torch.Size([991, 1]), torch.Size([991, 19, 1]))"
            ]
          },
          "metadata": {
            "tags": []
          },
          "execution_count": 16
        }
      ]
    },
    {
      "cell_type": "markdown",
      "metadata": {
        "id": "swK8Kus0rnaK"
      },
      "source": [
        "## Model"
      ]
    },
    {
      "cell_type": "code",
      "metadata": {
        "colab": {
          "base_uri": "https://localhost:8080/"
        },
        "id": "L_VfUSieuUCb",
        "outputId": "9bb4c583-4f14-4b69-ae68-b6234b0b4922"
      },
      "source": [
        "# torch.cuda.is_available() checks and returns a Boolean True if a GPU is available, else it'll return False\n",
        "is_cuda = torch.cuda.is_available()\n",
        "\n",
        "# If we have a GPU available, we'll set our device to GPU. We'll use this device variable later in our code.\n",
        "if is_cuda:\n",
        "    device = torch.device(\"cuda\")\n",
        "else:\n",
        "    device = torch.device(\"cpu\")\n",
        "print(device)"
      ],
      "execution_count": 17,
      "outputs": [
        {
          "output_type": "stream",
          "text": [
            "cuda\n"
          ],
          "name": "stdout"
        }
      ]
    },
    {
      "cell_type": "markdown",
      "metadata": {
        "id": "mNtJIzOhmObh"
      },
      "source": [
        "Constructor of the class accepts:\n",
        "\n",
        "*   input_size: Corresponds to the number of features in the input. \n",
        "*   hidden_layer_size: Specifies the number of hidden layers along with the number of neurons in each layer.\n",
        "*   output_size: The number of items in the output, since we want to predict the close price for the end of the day, the output size will be 1.\n",
        "\n",
        "\n",
        "\n",
        "\n"
      ]
    },
    {
      "cell_type": "code",
      "metadata": {
        "colab": {
          "base_uri": "https://localhost:8080/"
        },
        "id": "0_5OE7iQtjyg",
        "outputId": "0dc07b2f-4437-46f9-f3c6-9097e73a1ad4"
      },
      "source": [
        "#@title Parameters of the Model\n",
        "input_dim = 1 #@param {type:\"integer\"}\n",
        "hidden_dim = 40 #@param {type:\"integer\"}\n",
        "num_layers = 1 #@param {type:\"integer\"}\n",
        "output_dim = 1 #@param {type:\"integer\"}\n",
        "\n",
        "class LSTM(nn.Module):\n",
        "    def __init__(self, input_dim, hidden_dim, num_layers, output_dim):\n",
        "        super(LSTM, self).__init__()\n",
        "        # Hidden dimensions\n",
        "        self.hidden_dim = hidden_dim\n",
        "\n",
        "        # Number of hidden layers\n",
        "        self.num_layers = num_layers\n",
        "\n",
        "        # batch_first=True causes input/output tensors to be of shape\n",
        "        # (batch_dim, seq_dim, feature_dim)\n",
        "        self.lstm = nn.LSTM(input_dim, hidden_dim, num_layers, batch_first=True)\n",
        "\n",
        "        # Readout layer\n",
        "        self.fc = nn.Linear(hidden_dim, output_dim)\n",
        "\n",
        "    def forward(self, x):\n",
        "        # Initialize hidden state with zeros\n",
        "        h0 = torch.zeros(self.num_layers, x.size(0), self.hidden_dim).requires_grad_()\n",
        "\n",
        "        # Initialize cell state\n",
        "        c0 = torch.zeros(self.num_layers, x.size(0), self.hidden_dim).requires_grad_()\n",
        "\n",
        "        # We need to detach as we are doing truncated backpropagation through time\n",
        "        # If we don't, we'll backprop all the way to the start even after going through another batch\n",
        "        out, (hn, cn) = self.lstm(x, (h0.detach(), c0.detach()))\n",
        "\n",
        "        # Index hidden state of last time step\n",
        "        # I just want last time step hidden states!!!!\n",
        "        out = self.fc(out[:, -1, :]) \n",
        "        return out\n",
        "    \n",
        "model = LSTM(input_dim=input_dim, hidden_dim=hidden_dim, output_dim=output_dim, num_layers=num_layers)\n",
        "\n",
        "loss_fn = torch.nn.MSELoss()\n",
        "\n",
        "optimiser = torch.optim.Adam(model.parameters(), lr=0.01)\n",
        "print(model)\n",
        "print(len(list(model.parameters())))\n",
        "for i in range(len(list(model.parameters()))):\n",
        "    print(list(model.parameters())[i].size())"
      ],
      "execution_count": 18,
      "outputs": [
        {
          "output_type": "stream",
          "text": [
            "LSTM(\n",
            "  (lstm): LSTM(1, 40, batch_first=True)\n",
            "  (fc): Linear(in_features=40, out_features=1, bias=True)\n",
            ")\n",
            "6\n",
            "torch.Size([160, 1])\n",
            "torch.Size([160, 40])\n",
            "torch.Size([160])\n",
            "torch.Size([160])\n",
            "torch.Size([1, 40])\n",
            "torch.Size([1])\n"
          ],
          "name": "stdout"
        }
      ]
    },
    {
      "cell_type": "markdown",
      "metadata": {
        "id": "S8_K1-e2rEur"
      },
      "source": [
        "## Train Model"
      ]
    },
    {
      "cell_type": "code",
      "metadata": {
        "colab": {
          "base_uri": "https://localhost:8080/"
        },
        "id": "MvsOj5IbrD6w",
        "outputId": "42ff4306-914c-4bbd-c3eb-78e0eca66e40"
      },
      "source": [
        "#@title Timesteps for creating training data\n",
        "num_epochs = 100 #@param {type:\"slider\", min:1, max:500, step:10}\n",
        "\n",
        "\n",
        "# history\n",
        "hist = np.zeros(num_epochs)\n",
        "\n",
        "# Number of steps to unroll\n",
        "seq_dim =timesteps-1  \n",
        "\n",
        "for t in range(num_epochs):\n",
        "    # Forward pass\n",
        "    y_train_pred = model(x_train)\n",
        "\n",
        "    loss = loss_fn(y_train_pred, y_train)\n",
        "    #every 10 epochs\n",
        "    if t % 10 == 0 and t !=0:\n",
        "        print(\"Epoch \", t, \"MSE: \", loss.item())\n",
        "    hist[t] = loss.item()\n",
        "\n",
        "     # Zero out gradient, else they will accumulate between epochs\n",
        "    optimiser.zero_grad()\n",
        "\n",
        "    # Backward pass\n",
        "    loss.backward()\n",
        "\n",
        "    # Update parameters\n",
        "    optimiser.step()"
      ],
      "execution_count": 19,
      "outputs": [
        {
          "output_type": "stream",
          "text": [
            "Epoch  10 MSE:  0.035728927701711655\n",
            "Epoch  20 MSE:  0.007807901594787836\n",
            "Epoch  30 MSE:  0.006103678606450558\n",
            "Epoch  40 MSE:  0.005644675809890032\n",
            "Epoch  50 MSE:  0.005549919325858355\n",
            "Epoch  60 MSE:  0.005436448846012354\n",
            "Epoch  70 MSE:  0.005204646848142147\n",
            "Epoch  80 MSE:  0.004925422370433807\n",
            "Epoch  90 MSE:  0.004657441284507513\n"
          ],
          "name": "stdout"
        }
      ]
    },
    {
      "cell_type": "code",
      "metadata": {
        "colab": {
          "base_uri": "https://localhost:8080/",
          "height": 264
        },
        "id": "TDZWRYTZwO6s",
        "outputId": "47c649fd-9344-47ca-b3e4-223f53f6744d"
      },
      "source": [
        "plt.plot(hist, label=\"Training loss\")\n",
        "plt.legend()\n",
        "plt.show()"
      ],
      "execution_count": 20,
      "outputs": [
        {
          "output_type": "display_data",
          "data": {
            "image/png": "[encoded data removed]",
            "text/plain": [
              "<Figure size 432x288 with 1 Axes>"
            ]
          },
          "metadata": {
            "tags": [],
            "needs_background": "light"
          }
        }
      ]
    },
    {
      "cell_type": "code",
      "metadata": {
        "colab": {
          "base_uri": "https://localhost:8080/"
        },
        "id": "9gvnrIFwwSuD",
        "outputId": "55cefd2d-670d-4b04-8351-e7f2f1cd042b"
      },
      "source": [
        "print(np.shape(y_train_pred))\n",
        "print(np.shape(y_train))"
      ],
      "execution_count": 21,
      "outputs": [
        {
          "output_type": "stream",
          "text": [
            "torch.Size([991, 1])\n",
            "torch.Size([991, 1])\n"
          ],
          "name": "stdout"
        }
      ]
    },
    {
      "cell_type": "code",
      "metadata": {
        "id": "iSiwRWd9xQ9G"
      },
      "source": [
        "# save the model\n",
        "# checkpoint = {'model': LSTM(input_dim, hidden_dim, output_dim, num_layers),\n",
        "#               'state_dict': model.state_dict(),\n",
        "#               'optimizer' : optimiser.state_dict()}\n",
        "\n",
        "torch.save(model, 'checkpoint.pth')"
      ],
      "execution_count": 22,
      "outputs": []
    },
    {
      "cell_type": "code",
      "metadata": {
        "id": "bazVqYg4yo4E"
      },
      "source": [
        "# load the model\n",
        "loaded_model = torch.load('checkpoint.pth')"
      ],
      "execution_count": 23,
      "outputs": []
    },
    {
      "cell_type": "code",
      "metadata": {
        "colab": {
          "base_uri": "https://localhost:8080/"
        },
        "id": "CjrcySSR2bfn",
        "outputId": "5523932c-1e6b-4b72-99c0-65ee33e4f3be"
      },
      "source": [
        "print(y_train_pred.shape)"
      ],
      "execution_count": 24,
      "outputs": [
        {
          "output_type": "stream",
          "text": [
            "torch.Size([991, 1])\n"
          ],
          "name": "stdout"
        }
      ]
    },
    {
      "cell_type": "code",
      "metadata": {
        "id": "f389UHGQwarw"
      },
      "source": [
        "# make predictions\n",
        "# model.eval()\n",
        "y_test_pred = loaded_model(x_test)\n",
        "\n",
        "# invert predictions\n",
        "# inverse_transform --> we normalized our data. converts these values ​​to before normalization.\n",
        "y_train_pred = scaler.inverse_transform(y_train_pred.detach().numpy())\n",
        "y_train = scaler.inverse_transform(y_train.detach().numpy())\n",
        "y_test_pred = scaler.inverse_transform(y_test_pred.detach().numpy())\n",
        "y_test = scaler.inverse_transform(y_test.detach().numpy())"
      ],
      "execution_count": 25,
      "outputs": []
    },
    {
      "cell_type": "code",
      "metadata": {
        "colab": {
          "base_uri": "https://localhost:8080/"
        },
        "id": "W6hSN2mcAtAa",
        "outputId": "19a8989e-410d-4865-95d3-8f1b904d146d"
      },
      "source": [
        "# calculate root mean squared error\n",
        "trainScore = math.sqrt(mean_squared_error(y_train[:,0], y_train_pred[:,0]))\n",
        "print('Train Score: %.2f RMSE' % (trainScore))\n",
        "testScore = math.sqrt(mean_squared_error(y_test[:, 0], y_test_pred[:,0]))\n",
        "print('Test Score: %.2f RMSE' % (testScore))"
      ],
      "execution_count": 26,
      "outputs": [
        {
          "output_type": "stream",
          "text": [
            "Train Score: 8.29 RMSE\n",
            "Test Score: 50.76 RMSE\n"
          ],
          "name": "stdout"
        }
      ]
    },
    {
      "cell_type": "code",
      "metadata": {
        "colab": {
          "base_uri": "https://localhost:8080/",
          "height": 294
        },
        "id": "Kp_PGEiMAzc4",
        "outputId": "49f7732c-2f1a-4e39-8fa8-1f5414a091a1"
      },
      "source": [
        "plt.plot(y_test, color = \"red\", label = \"Real Stock Price\")\n",
        "plt.plot(y_test_pred, color = \"black\", label = \"Predict Stock Price\")\n",
        "plt.title(\"Stock Price Prediction\")\n",
        "plt.xlabel(\"Time\")\n",
        "plt.ylabel(\"Tesla Stock Price\")\n",
        "plt.legend()\n",
        "plt.show()"
      ],
      "execution_count": 27,
      "outputs": [
        {
          "output_type": "display_data",
          "data": {
            "image/png": "[encoded data removed]",
            "text/plain": [
              "<Figure size 432x288 with 1 Axes>"
            ]
          },
          "metadata": {
            "tags": [],
            "needs_background": "light"
          }
        }
      ]
    }
  ]
}